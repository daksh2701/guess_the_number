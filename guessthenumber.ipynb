{
  "nbformat": 4,
  "nbformat_minor": 0,
  "metadata": {
    "colab": {
      "provenance": [],
      "authorship_tag": "ABX9TyOfTrZhhDoq26sG28s21Ukx",
      "include_colab_link": true
    },
    "kernelspec": {
      "name": "python3",
      "display_name": "Python 3"
    },
    "language_info": {
      "name": "python"
    }
  },
  "cells": [
    {
      "cell_type": "markdown",
      "metadata": {
        "id": "view-in-github",
        "colab_type": "text"
      },
      "source": [
        "<a href=\"https://colab.research.google.com/github/daksh2701/guess_the_number/blob/main/guessthenumber.ipynb\" target=\"_parent\"><img src=\"https://colab.research.google.com/assets/colab-badge.svg\" alt=\"Open In Colab\"/></a>"
      ]
    },
    {
      "cell_type": "code",
      "execution_count": null,
      "metadata": {
        "colab": {
          "base_uri": "https://localhost:8080/"
        },
        "id": "6g842ctRo0aN",
        "outputId": "97c93234-8c20-41ce-fd6a-401b762027a2"
      },
      "outputs": [
        {
          "metadata": {
            "tags": null
          },
          "name": "stdout",
          "output_type": "stream",
          "text": [
            "Welcome to the Number Guessing Game!\n",
            "I'm thinking of a number between 1 and 100!\n",
            "Answer is 55\n"
          ]
        }
      ],
      "source": [
        "logo = \"\"\"\n",
        " ██████  ██    ██ ███████ ███████ ███████     ████████ ██   ██ ███████     ███    ██ ██    ██ ███    ███ ██████  ███████ ██████       ██████   █████  ███    ███ ███████\n",
        "██       ██    ██ ██      ██      ██             ██    ██   ██ ██          ████   ██ ██    ██ ████  ████ ██   ██ ██      ██   ██     ██       ██   ██ ████  ████ ██\n",
        "██   ███ ██    ██ █████   ███████ ███████        ██    ███████ █████       ██ ██  ██ ██    ██ ██ ████ ██ ██████  █████   ██████      ██   ███ ███████ ██ ████ ██ █████\n",
        "██    ██ ██    ██ ██           ██      ██        ██    ██   ██ ██          ██  ██ ██ ██    ██ ██  ██  ██ ██   ██ ██      ██   ██     ██    ██ ██   ██ ██  ██  ██ ██\n",
        " ██████   ██████  ███████ ███████ ███████        ██    ██   ██ ███████     ██   ████  ██████  ██      ██ ██████  ███████ ██   ██      ██████  ██   ██ ██      ██ ███████\n",
        "\n",
        "\n",
        "\"\"\"\n",
        "#printing the starting parts\n",
        "from random import randint\n",
        "Easy_level_turns = 10\n",
        "Hard_level_turns = 5\n",
        "turns = 0\n",
        "#set dificulty\n",
        "def choose_difficulty():\n",
        "    level = input(\"Choose a difficulty level : Type 'easy' or 'hard'!\")\n",
        "    if level == \"easy\":\n",
        "        return Easy_level_turns\n",
        "    else :\n",
        "        return Hard_level_turns\n",
        "\n",
        "#fn to check the match or not\n",
        "def check_answer(user_guess , answer, turns):\n",
        "    if user_guess >answer :\n",
        "        print(\"Too High\")\n",
        "        return turns - 1\n",
        "    elif user_guess < answer :\n",
        "        print(\"Too Low\")\n",
        "        return turns - 1\n",
        "    elif user_guess == answer :\n",
        "        print(f\"Correct Guess.... The answer is {answer}\")\n",
        "\n",
        "\n",
        "def game():\n",
        "    print(\"Welcome to the Number Guessing Game!\")\n",
        "    print(\"I'm thinking of a number between 1 and 100!\")\n",
        "    answer = randint(1,100) #choosing random no.\n",
        "    print(f\"Answer is {answer}\")\n",
        "    turns = choose_difficulty()\n",
        "\n",
        "\n",
        "    while turns != 0:\n",
        "        print(f\"You have {turns} attempts remaining to guess the input\")\n",
        "        guess = int(input(\"Make a Guess : \"))\n",
        "        if turns == 0:\n",
        "            print(\"You have run out of gusses!\")\n",
        "            return\n",
        "\n",
        "\n",
        "#take user's guess\n",
        "\n",
        "        turns= check_answer(guess,answer,turns)\n",
        "game()\n"
      ]
    },
    {
      "cell_type": "code",
      "source": [],
      "metadata": {
        "id": "jUFGx_C5o6ev"
      },
      "execution_count": null,
      "outputs": []
    }
  ]
}